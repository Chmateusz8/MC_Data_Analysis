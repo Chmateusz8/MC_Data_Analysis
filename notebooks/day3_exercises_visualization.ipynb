{
 "cells": [
  {
   "cell_type": "markdown",
   "metadata": {
    "tags": []
   },
   "source": [
    "# Data Analysis and Data Science\n",
    "## Be curious about the data \n",
    "\n",
    "By: Mateusz Checinski\n",
    "<br>For: BIM6065-65\n",
    "\n",
    "<hr style=\"border:1px solid black\"> </hr>\n"
   ]
  },
  {
   "cell_type": "markdown",
   "metadata": {},
   "source": [
    "**Student Name**: Mateusz Checinski\n",
    "\n",
    "Complete the following exercises and submit your Notebook in a HTML format on StudiUM. You have until July 3rd, noon to hand-in your Notebook."
   ]
  },
  {
   "cell_type": "markdown",
   "metadata": {},
   "source": [
    "## Python Libraries\n",
    "\n",
    "Import the Pandas, and Seaborn"
   ]
  },
  {
   "cell_type": "code",
   "execution_count": 1,
   "metadata": {},
   "outputs": [],
   "source": [
    "import pandas as pd\n",
    "import seaborn as sns"
   ]
  },
  {
   "cell_type": "code",
   "execution_count": 2,
   "metadata": {},
   "outputs": [],
   "source": [
    "sns.set(rc={'figure.figsize':(9, 4)})\n",
    "sns.set_theme(context=\"notebook\", style=\"white\", palette=\"Set2\")"
   ]
  },
  {
   "cell_type": "markdown",
   "metadata": {},
   "source": [
    "## Get the data [8 pts]\n",
    "\n",
    "Download the <code>breast_cancer_metametric.tsv</code> dataset from StudiUM and upload it to the Jupyter IRIC server. Using <code>pandas</code>, read the file and save its content into a variable as a dataframe."
   ]
  },
  {
   "cell_type": "code",
   "execution_count": 3,
   "metadata": {},
   "outputs": [],
   "source": [
    "## Define variable with file name\n",
    "bc = \"breast_cancer_metametric.tsv\""
   ]
  },
  {
   "cell_type": "code",
   "execution_count": 4,
   "metadata": {},
   "outputs": [],
   "source": [
    "## Read ans save data into variable as a dataframe\n",
    "data = pd.read_table(\"/u/checinsm/breast_cancer_metametric.tsv\")"
   ]
  },
  {
   "cell_type": "markdown",
   "metadata": {},
   "source": [
    "## Explore the data [12 pts]\n",
    "\n",
    "Using various <code>pandas</code> functions, answer the following questions. **Make sure you answers are explicitely outputed by your code.**"
   ]
  },
  {
   "cell_type": "markdown",
   "metadata": {},
   "source": [
    "1. How many variables and samples are there in your dataset?"
   ]
  },
  {
   "cell_type": "code",
   "execution_count": 5,
   "metadata": {},
   "outputs": [
    {
     "data": {
      "text/html": [
       "<div>\n",
       "<style scoped>\n",
       "    .dataframe tbody tr th:only-of-type {\n",
       "        vertical-align: middle;\n",
       "    }\n",
       "\n",
       "    .dataframe tbody tr th {\n",
       "        vertical-align: top;\n",
       "    }\n",
       "\n",
       "    .dataframe thead th {\n",
       "        text-align: right;\n",
       "    }\n",
       "</style>\n",
       "<table border=\"1\" class=\"dataframe\">\n",
       "  <thead>\n",
       "    <tr style=\"text-align: right;\">\n",
       "      <th></th>\n",
       "      <th>CHEMOTHERAPY</th>\n",
       "      <th>HORMONE_THERAPY</th>\n",
       "      <th>RADIO_THERAPY</th>\n",
       "      <th>BREAST_SURGERY</th>\n",
       "      <th>CELLULARITY</th>\n",
       "      <th>VITAL_STATUS</th>\n",
       "      <th>GRADE</th>\n",
       "      <th>COHORT</th>\n",
       "      <th>MUTATION_COUNT</th>\n",
       "      <th>NPI</th>\n",
       "      <th>OS_MONTHS</th>\n",
       "      <th>TUMOR_SIZE</th>\n",
       "      <th>TUMOR_STAGE</th>\n",
       "      <th>AGE_GROUP</th>\n",
       "    </tr>\n",
       "  </thead>\n",
       "  <tbody>\n",
       "    <tr>\n",
       "      <th>0</th>\n",
       "      <td>1.0</td>\n",
       "      <td>1.0</td>\n",
       "      <td>1.0</td>\n",
       "      <td>0.0</td>\n",
       "      <td>2.0</td>\n",
       "      <td>0.0</td>\n",
       "      <td>3.0</td>\n",
       "      <td>1.0</td>\n",
       "      <td>2.0</td>\n",
       "      <td>4.038</td>\n",
       "      <td>174.266667</td>\n",
       "      <td>19.0</td>\n",
       "      <td>1.0</td>\n",
       "      <td>30.0</td>\n",
       "    </tr>\n",
       "    <tr>\n",
       "      <th>1</th>\n",
       "      <td>1.0</td>\n",
       "      <td>1.0</td>\n",
       "      <td>1.0</td>\n",
       "      <td>0.0</td>\n",
       "      <td>1.0</td>\n",
       "      <td>2.0</td>\n",
       "      <td>3.0</td>\n",
       "      <td>1.0</td>\n",
       "      <td>4.0</td>\n",
       "      <td>6.046</td>\n",
       "      <td>48.600000</td>\n",
       "      <td>23.0</td>\n",
       "      <td>2.0</td>\n",
       "      <td>30.0</td>\n",
       "    </tr>\n",
       "    <tr>\n",
       "      <th>2</th>\n",
       "      <td>1.0</td>\n",
       "      <td>1.0</td>\n",
       "      <td>1.0</td>\n",
       "      <td>0.0</td>\n",
       "      <td>0.0</td>\n",
       "      <td>1.0</td>\n",
       "      <td>3.0</td>\n",
       "      <td>1.0</td>\n",
       "      <td>3.0</td>\n",
       "      <td>5.104</td>\n",
       "      <td>79.333333</td>\n",
       "      <td>52.0</td>\n",
       "      <td>3.0</td>\n",
       "      <td>80.0</td>\n",
       "    </tr>\n",
       "    <tr>\n",
       "      <th>3</th>\n",
       "      <td>0.0</td>\n",
       "      <td>1.0</td>\n",
       "      <td>0.0</td>\n",
       "      <td>0.0</td>\n",
       "      <td>2.0</td>\n",
       "      <td>0.0</td>\n",
       "      <td>2.0</td>\n",
       "      <td>3.0</td>\n",
       "      <td>5.0</td>\n",
       "      <td>3.036</td>\n",
       "      <td>224.600000</td>\n",
       "      <td>18.0</td>\n",
       "      <td>1.0</td>\n",
       "      <td>40.0</td>\n",
       "    </tr>\n",
       "    <tr>\n",
       "      <th>4</th>\n",
       "      <td>0.0</td>\n",
       "      <td>1.0</td>\n",
       "      <td>1.0</td>\n",
       "      <td>1.0</td>\n",
       "      <td>2.0</td>\n",
       "      <td>1.0</td>\n",
       "      <td>3.0</td>\n",
       "      <td>1.0</td>\n",
       "      <td>2.0</td>\n",
       "      <td>4.040</td>\n",
       "      <td>147.366667</td>\n",
       "      <td>20.0</td>\n",
       "      <td>1.0</td>\n",
       "      <td>60.0</td>\n",
       "    </tr>\n",
       "  </tbody>\n",
       "</table>\n",
       "</div>"
      ],
      "text/plain": [
       "   CHEMOTHERAPY  HORMONE_THERAPY  RADIO_THERAPY  BREAST_SURGERY  CELLULARITY  \\\n",
       "0           1.0              1.0            1.0             0.0          2.0   \n",
       "1           1.0              1.0            1.0             0.0          1.0   \n",
       "2           1.0              1.0            1.0             0.0          0.0   \n",
       "3           0.0              1.0            0.0             0.0          2.0   \n",
       "4           0.0              1.0            1.0             1.0          2.0   \n",
       "\n",
       "   VITAL_STATUS  GRADE  COHORT  MUTATION_COUNT    NPI   OS_MONTHS  TUMOR_SIZE  \\\n",
       "0           0.0    3.0     1.0             2.0  4.038  174.266667        19.0   \n",
       "1           2.0    3.0     1.0             4.0  6.046   48.600000        23.0   \n",
       "2           1.0    3.0     1.0             3.0  5.104   79.333333        52.0   \n",
       "3           0.0    2.0     3.0             5.0  3.036  224.600000        18.0   \n",
       "4           1.0    3.0     1.0             2.0  4.040  147.366667        20.0   \n",
       "\n",
       "   TUMOR_STAGE  AGE_GROUP  \n",
       "0          1.0       30.0  \n",
       "1          2.0       30.0  \n",
       "2          3.0       80.0  \n",
       "3          1.0       40.0  \n",
       "4          1.0       60.0  "
      ]
     },
     "execution_count": 5,
     "metadata": {},
     "output_type": "execute_result"
    }
   ],
   "source": [
    "data.head()"
   ]
  },
  {
   "cell_type": "code",
   "execution_count": 6,
   "metadata": {},
   "outputs": [
    {
     "name": "stdout",
     "output_type": "stream",
     "text": [
      "1104 samples a.k.a patients\n",
      "14 variables\n"
     ]
    }
   ],
   "source": [
    "print(data.shape[0], \"samples a.k.a patients\")\n",
    "print(data.shape[1], \"variables\")"
   ]
  },
  {
   "cell_type": "markdown",
   "metadata": {},
   "source": [
    "***\n",
    "2. How many age groups are considered?"
   ]
  },
  {
   "cell_type": "code",
   "execution_count": 7,
   "metadata": {},
   "outputs": [
    {
     "name": "stdout",
     "output_type": "stream",
     "text": [
      "6 age groups\n"
     ]
    }
   ],
   "source": [
    "print((data.loc[:, \"AGE_GROUP\"].nunique()), \"age groups\")"
   ]
  },
  {
   "cell_type": "markdown",
   "metadata": {},
   "source": [
    "***\n",
    "3. What is the mean overall survival (in month)?"
   ]
  },
  {
   "cell_type": "code",
   "execution_count": 47,
   "metadata": {},
   "outputs": [
    {
     "name": "stdout",
     "output_type": "stream",
     "text": [
      "126.0 months\n"
     ]
    }
   ],
   "source": [
    "print(round(data[\"OS_MONTHS\"].mean(), 0), \"months\")"
   ]
  },
  {
   "cell_type": "markdown",
   "metadata": {},
   "source": [
    "***\n",
    "4. What is the highest mutation count?"
   ]
  },
  {
   "cell_type": "code",
   "execution_count": 9,
   "metadata": {},
   "outputs": [
    {
     "name": "stdout",
     "output_type": "stream",
     "text": [
      "46.0  mutations\n"
     ]
    }
   ],
   "source": [
    "print((data[\"MUTATION_COUNT\"].max()), \" mutations\")"
   ]
  },
  {
   "cell_type": "markdown",
   "metadata": {},
   "source": [
    "***\n",
    "5. How large is the smallest tumor?"
   ]
  },
  {
   "cell_type": "code",
   "execution_count": 10,
   "metadata": {},
   "outputs": [
    {
     "name": "stdout",
     "output_type": "stream",
     "text": [
      "1.0  cm\n"
     ]
    }
   ],
   "source": [
    "print((data[\"TUMOR_SIZE\"].min()), \" cm\")"
   ]
  },
  {
   "cell_type": "markdown",
   "metadata": {},
   "source": [
    "***\n",
    "6. What are the grades considered in the dataset?"
   ]
  },
  {
   "cell_type": "code",
   "execution_count": 11,
   "metadata": {},
   "outputs": [
    {
     "name": "stdout",
     "output_type": "stream",
     "text": [
      "Grades: [3. 2. 1.]\n"
     ]
    }
   ],
   "source": [
    "print(\"Grades:\", (data.loc[:,\"GRADE\"].unique()))"
   ]
  },
  {
   "cell_type": "markdown",
   "metadata": {},
   "source": [
    "***\n",
    "7. What is the median Nottingham Prognostic Index (NPI)?"
   ]
  },
  {
   "cell_type": "code",
   "execution_count": 12,
   "metadata": {},
   "outputs": [
    {
     "name": "stdout",
     "output_type": "stream",
     "text": [
      "Median NPI:  4.046\n"
     ]
    }
   ],
   "source": [
    "print(\"Median NPI: \", (data[\"NPI\"].median()))"
   ]
  },
  {
   "cell_type": "markdown",
   "metadata": {},
   "source": [
    "***\n",
    "8. a) What are the possible values for CHEMOTHERAPY, HORMONE_THERAPY, RADIO_THERAPY, BREAST_SURGERY? <br>b) What do you think these values represent? "
   ]
  },
  {
   "cell_type": "code",
   "execution_count": 13,
   "metadata": {},
   "outputs": [
    {
     "name": "stdout",
     "output_type": "stream",
     "text": [
      "Chemotherapy:  [1. 0.]\n",
      "Hormone Therpay:  [1. 0.]\n",
      "Radio therapy:  [1. 0.]\n",
      "Breast surgery:  [0. 1.]\n"
     ]
    }
   ],
   "source": [
    "print(\"Chemotherapy: \", data.loc[:, \"CHEMOTHERAPY\"].unique())\n",
    "print(\"Hormone Therpay: \", data.loc[:, \"HORMONE_THERAPY\"].unique())\n",
    "print(\"Radio therapy: \", data.loc[:, \"RADIO_THERAPY\"].unique())\n",
    "print(\"Breast surgery: \", data.loc[:, \"BREAST_SURGERY\"].unique())"
   ]
  },
  {
   "cell_type": "code",
   "execution_count": 14,
   "metadata": {},
   "outputs": [
    {
     "name": "stdout",
     "output_type": "stream",
     "text": [
      "8.b) 1 means patient has had the respective treatment, 0 means they have not\n",
      "This is based on the notation: 1 = true, 0 = false\n"
     ]
    }
   ],
   "source": [
    "print(\"8.b) 1 means patient has had the respective treatment, 0 means they have not\")\n",
    "print(\"This is based on the notation: 1 = true, 0 = false\")"
   ]
  },
  {
   "cell_type": "markdown",
   "metadata": {},
   "source": [
    "***\n",
    "10. How many patients in the dataset have had breast surgery?"
   ]
  },
  {
   "cell_type": "code",
   "execution_count": 15,
   "metadata": {},
   "outputs": [
    {
     "name": "stdout",
     "output_type": "stream",
     "text": [
      "468 patients have had breast surgery\n"
     ]
    }
   ],
   "source": [
    "print((data.loc[data.BREAST_SURGERY == 1.0, data.columns.values[3]].count()), \"patients have had breast surgery\")"
   ]
  },
  {
   "cell_type": "markdown",
   "metadata": {},
   "source": [
    "## Visualize the data [30 pts pts]"
   ]
  },
  {
   "cell_type": "markdown",
   "metadata": {},
   "source": [
    "You are first interested in the distribution of the overall survival of the various samples. You hypothesize that the distribution differ from one tumor stage to another.\n",
    "\n",
    "Design a figure that will help verify your hypothesis. **Make sure your figure is readable and displayed after your code.**\n",
    "\n",
    "Briefly intepret your figure."
   ]
  },
  {
   "cell_type": "code",
   "execution_count": 16,
   "metadata": {},
   "outputs": [],
   "source": [
    "import seaborn as sns"
   ]
  },
  {
   "cell_type": "code",
   "execution_count": 17,
   "metadata": {},
   "outputs": [
    {
     "data": {
      "text/html": [
       "<div>\n",
       "<style scoped>\n",
       "    .dataframe tbody tr th:only-of-type {\n",
       "        vertical-align: middle;\n",
       "    }\n",
       "\n",
       "    .dataframe tbody tr th {\n",
       "        vertical-align: top;\n",
       "    }\n",
       "\n",
       "    .dataframe thead th {\n",
       "        text-align: right;\n",
       "    }\n",
       "</style>\n",
       "<table border=\"1\" class=\"dataframe\">\n",
       "  <thead>\n",
       "    <tr style=\"text-align: right;\">\n",
       "      <th></th>\n",
       "      <th>CHEMOTHERAPY</th>\n",
       "      <th>HORMONE_THERAPY</th>\n",
       "      <th>RADIO_THERAPY</th>\n",
       "      <th>BREAST_SURGERY</th>\n",
       "      <th>CELLULARITY</th>\n",
       "      <th>VITAL_STATUS</th>\n",
       "      <th>GRADE</th>\n",
       "      <th>COHORT</th>\n",
       "      <th>MUTATION_COUNT</th>\n",
       "      <th>NPI</th>\n",
       "      <th>OS_MONTHS</th>\n",
       "      <th>TUMOR_SIZE</th>\n",
       "      <th>TUMOR_STAGE</th>\n",
       "      <th>AGE_GROUP</th>\n",
       "    </tr>\n",
       "  </thead>\n",
       "  <tbody>\n",
       "    <tr>\n",
       "      <th>0</th>\n",
       "      <td>1.0</td>\n",
       "      <td>1.0</td>\n",
       "      <td>1.0</td>\n",
       "      <td>0.0</td>\n",
       "      <td>2.0</td>\n",
       "      <td>0.0</td>\n",
       "      <td>3.0</td>\n",
       "      <td>1.0</td>\n",
       "      <td>2.0</td>\n",
       "      <td>4.038</td>\n",
       "      <td>174.266667</td>\n",
       "      <td>19.0</td>\n",
       "      <td>1.0</td>\n",
       "      <td>30.0</td>\n",
       "    </tr>\n",
       "    <tr>\n",
       "      <th>1</th>\n",
       "      <td>1.0</td>\n",
       "      <td>1.0</td>\n",
       "      <td>1.0</td>\n",
       "      <td>0.0</td>\n",
       "      <td>1.0</td>\n",
       "      <td>2.0</td>\n",
       "      <td>3.0</td>\n",
       "      <td>1.0</td>\n",
       "      <td>4.0</td>\n",
       "      <td>6.046</td>\n",
       "      <td>48.600000</td>\n",
       "      <td>23.0</td>\n",
       "      <td>2.0</td>\n",
       "      <td>30.0</td>\n",
       "    </tr>\n",
       "    <tr>\n",
       "      <th>2</th>\n",
       "      <td>1.0</td>\n",
       "      <td>1.0</td>\n",
       "      <td>1.0</td>\n",
       "      <td>0.0</td>\n",
       "      <td>0.0</td>\n",
       "      <td>1.0</td>\n",
       "      <td>3.0</td>\n",
       "      <td>1.0</td>\n",
       "      <td>3.0</td>\n",
       "      <td>5.104</td>\n",
       "      <td>79.333333</td>\n",
       "      <td>52.0</td>\n",
       "      <td>3.0</td>\n",
       "      <td>80.0</td>\n",
       "    </tr>\n",
       "    <tr>\n",
       "      <th>3</th>\n",
       "      <td>0.0</td>\n",
       "      <td>1.0</td>\n",
       "      <td>0.0</td>\n",
       "      <td>0.0</td>\n",
       "      <td>2.0</td>\n",
       "      <td>0.0</td>\n",
       "      <td>2.0</td>\n",
       "      <td>3.0</td>\n",
       "      <td>5.0</td>\n",
       "      <td>3.036</td>\n",
       "      <td>224.600000</td>\n",
       "      <td>18.0</td>\n",
       "      <td>1.0</td>\n",
       "      <td>40.0</td>\n",
       "    </tr>\n",
       "    <tr>\n",
       "      <th>4</th>\n",
       "      <td>0.0</td>\n",
       "      <td>1.0</td>\n",
       "      <td>1.0</td>\n",
       "      <td>1.0</td>\n",
       "      <td>2.0</td>\n",
       "      <td>1.0</td>\n",
       "      <td>3.0</td>\n",
       "      <td>1.0</td>\n",
       "      <td>2.0</td>\n",
       "      <td>4.040</td>\n",
       "      <td>147.366667</td>\n",
       "      <td>20.0</td>\n",
       "      <td>1.0</td>\n",
       "      <td>60.0</td>\n",
       "    </tr>\n",
       "  </tbody>\n",
       "</table>\n",
       "</div>"
      ],
      "text/plain": [
       "   CHEMOTHERAPY  HORMONE_THERAPY  RADIO_THERAPY  BREAST_SURGERY  CELLULARITY  \\\n",
       "0           1.0              1.0            1.0             0.0          2.0   \n",
       "1           1.0              1.0            1.0             0.0          1.0   \n",
       "2           1.0              1.0            1.0             0.0          0.0   \n",
       "3           0.0              1.0            0.0             0.0          2.0   \n",
       "4           0.0              1.0            1.0             1.0          2.0   \n",
       "\n",
       "   VITAL_STATUS  GRADE  COHORT  MUTATION_COUNT    NPI   OS_MONTHS  TUMOR_SIZE  \\\n",
       "0           0.0    3.0     1.0             2.0  4.038  174.266667        19.0   \n",
       "1           2.0    3.0     1.0             4.0  6.046   48.600000        23.0   \n",
       "2           1.0    3.0     1.0             3.0  5.104   79.333333        52.0   \n",
       "3           0.0    2.0     3.0             5.0  3.036  224.600000        18.0   \n",
       "4           1.0    3.0     1.0             2.0  4.040  147.366667        20.0   \n",
       "\n",
       "   TUMOR_STAGE  AGE_GROUP  \n",
       "0          1.0       30.0  \n",
       "1          2.0       30.0  \n",
       "2          3.0       80.0  \n",
       "3          1.0       40.0  \n",
       "4          1.0       60.0  "
      ]
     },
     "execution_count": 17,
     "metadata": {},
     "output_type": "execute_result"
    }
   ],
   "source": [
    "data.head()"
   ]
  },
  {
   "cell_type": "code",
   "execution_count": 22,
   "metadata": {},
   "outputs": [
    {
     "data": {
      "image/png": "[encoded data removed]",
      "text/plain": [
       "<Figure size 900x400 with 1 Axes>"
      ]
     },
     "metadata": {},
     "output_type": "display_data"
    }
   ],
   "source": [
    "p = sns.histplot(data, x=\"OS_MONTHS\", bins=50, hue=\"TUMOR_STAGE\", multiple=\"stack\")\n",
    "p.set_title(\"Overall Survival (Months) based on Tumour Stage\")\n",
    "\n",
    "sns.move_legend(p, \"upper left\", bbox_to_anchor=(1, 1), title=\"Tumour Stage\", frameon=True)\n",
    "sns.despine()"
   ]
  },
  {
   "cell_type": "code",
   "execution_count": 29,
   "metadata": {},
   "outputs": [
    {
     "name": "stdout",
     "output_type": "stream",
     "text": [
      "-Indeed, it seems that the the distribution of the overall survival (OS_MONTHS)\n",
      " differs from one tumor stage to another.\n",
      " \n",
      "-This is because all 4 tumour stages seem to be distributed more\n",
      "towards the beginning of the graph, closer to the 50-100 OS_Months values.\n",
      " \n",
      "-This is even more apparent with tumour stages 3 and 4 which are much more visioble\n",
      "at the mentioned values and especially tumour stage 4 does not appear after 150 OS_MONTHS.\n"
     ]
    }
   ],
   "source": [
    "### Interpretation\n",
    "print(\"-Indeed, it seems that the the distribution of the overall survival (OS_MONTHS)\")\n",
    "print(\" differs from one tumor stage to another.\")\n",
    "print(\" \")\n",
    "print(\"-This is because all 4 tumour stages seem to be distributed more\")\n",
    "print(\"towards the beginning of the graph, closer to the 50-100 OS_Months values.\")\n",
    "print(\" \")\n",
    "print(\"-This is even more apparent with tumour stages 3 and 4 which are much more visioble\")\n",
    "print(\"at the mentioned values and especially tumour stage 4 does not appear after 150 OS_MONTHS.\")"
   ]
  },
  {
   "cell_type": "markdown",
   "metadata": {},
   "source": [
    "***\n",
    "You are now interested in the relationship between the overall survival and the other variables measured. Given your knowledge of the dataset, make an hypothesis that considered the overall survival.\n",
    "\n",
    "Explore the dataset and generate a least one figure that validate or invalidate your hypothesis. **Make sure your figure is readable and displayed after your code.**\n",
    "\n",
    "Briefly intepret your figure."
   ]
  },
  {
   "cell_type": "code",
   "execution_count": 41,
   "metadata": {},
   "outputs": [
    {
     "name": "stdout",
     "output_type": "stream",
     "text": [
      "Hypothesis: The survival rate (OS_Months) is correlated with mutation count.\n",
      "            (A high mutation count would result in lower survival rate)\n"
     ]
    }
   ],
   "source": [
    "print(\"Hypothesis: The survival rate (OS_Months) is correlated with mutation count.\")\n",
    "print(\"            (A high mutation count would result in lower survival rate)\")"
   ]
  },
  {
   "cell_type": "code",
   "execution_count": 43,
   "metadata": {},
   "outputs": [
    {
     "data": {
      "image/png": "[encoded data removed]",
      "text/plain": [
       "<Figure size 500x500 with 1 Axes>"
      ]
     },
     "metadata": {},
     "output_type": "display_data"
    }
   ],
   "source": [
    "### Figure\n",
    "sns.lmplot(data, x=\"OS_MONTHS\", y=\"MUTATION_COUNT\", truncate=False)\n",
    "sns.despine()"
   ]
  },
  {
   "cell_type": "code",
   "execution_count": 44,
   "metadata": {},
   "outputs": [
    {
     "name": "stdout",
     "output_type": "stream",
     "text": [
      "-Interpretetion of graph: This does not seem to be the case as the line of best fit is flat\n",
      " showing little correlation. The graph is not steep with a negative slope as hypothesised.\n"
     ]
    }
   ],
   "source": [
    "### Interpretation\n",
    "print(\"-Interpretetion of graph: This does not seem to be the case as the line of best fit is flat\")\n",
    "print(\" showing little correlation. The graph is not steep with a negative slope as hypothesised.\")"
   ]
  }
 ],
 "metadata": {
  "kernelspec": {
   "display_name": "Python (bioinfo)",
   "language": "python",
   "name": "bioinfo"
  },
  "language_info": {
   "codemirror_mode": {
    "name": "ipython",
    "version": 3
   },
   "file_extension": ".py",
   "mimetype": "text/x-python",
   "name": "python",
   "nbconvert_exporter": "python",
   "pygments_lexer": "ipython3",
   "version": "3.10.4"
  }
 },
 "nbformat": 4,
 "nbformat_minor": 4
}
